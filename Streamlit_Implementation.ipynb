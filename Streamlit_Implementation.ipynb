{
  "nbformat": 4,
  "nbformat_minor": 0,
  "metadata": {
    "kernelspec": {
      "display_name": "Python 3",
      "language": "python",
      "name": "python3"
    },
    "language_info": {
      "codemirror_mode": {
        "name": "ipython",
        "version": 3
      },
      "file_extension": ".py",
      "mimetype": "text/x-python",
      "name": "python",
      "nbconvert_exporter": "python",
      "pygments_lexer": "ipython3",
      "version": "3.8.5"
    },
    "colab": {
      "name": "Streamlit.ipynb",
      "provenance": [],
      "collapsed_sections": []
    }
  },
  "cells": [
    {
      "cell_type": "code",
      "metadata": {
        "id": "BsG99cPBbxyT"
      },
      "source": [
        "!pip install streamlit --quiet\n",
        "!pip install pyngrok==4.1.1 --quiet\n",
        "!pip install streamlit-drawable-canvas --quiet\n"
      ],
      "execution_count": 1,
      "outputs": []
    },
    {
      "cell_type": "code",
      "metadata": {
        "colab": {
          "base_uri": "https://localhost:8080/"
        },
        "id": "FirKgoipbxyd",
        "outputId": "f15a043e-3740-496f-885f-36aea05d48c5"
      },
      "source": [
        "%%writefile app.py\n",
        "\n",
        "import streamlit as st\n",
        "from streamlit_drawable_canvas import st_canvas\n",
        "import numpy as np\n",
        "from tensorflow import keras\n",
        "import matplotlib.pyplot as plt\n",
        "import cv2\n",
        "\n",
        "\n",
        "canvas_result = st_canvas(\n",
        "    fill_color=\"#ffffff\",\n",
        "    stroke_width=20,\n",
        "    stroke_color='#ffffff',\n",
        "    background_color=\"#000000\",\n",
        "    height=250,width=250,\n",
        "    drawing_mode='freedraw',\n",
        "    key=\"canvas\",\n",
        ")\n",
        "\n",
        "model = keras.models.load_model('digit.hdf5')\n",
        "if canvas_result.image_data is not None:\n",
        "    st.image(canvas_result.image_data)\n",
        "img = canvas_result.image_data.astype('uint8')\n",
        "img = cv2.cvtColor(img, cv2.COLOR_BGR2GRAY)\n",
        "img = cv2.resize(img,(28,28))\n",
        "img = np.expand_dims(img, axis = 0)\n",
        "\n",
        "if st.button('Predict'):\n",
        "    out = model.predict(img)\n",
        "    res = np.argmax(out)\n",
        "    st.success(res)\n",
        "    st.bar_chart(out[0])\n"
      ],
      "execution_count": 7,
      "outputs": [
        {
          "output_type": "stream",
          "text": [
            "Overwriting app.py\n"
          ],
          "name": "stdout"
        }
      ]
    },
    {
      "cell_type": "code",
      "metadata": {
        "colab": {
          "base_uri": "https://localhost:8080/"
        },
        "id": "_hSZEJSTbxye",
        "outputId": "8ff9e8cf-63b0-4fd0-e565-11b523abe620"
      },
      "source": [
        "from pyngrok import ngrok\n",
        "!nohup streamlit run app.py &\n",
        "url = ngrok.connect(port='8501')\n",
        "print(url)"
      ],
      "execution_count": 3,
      "outputs": [
        {
          "output_type": "stream",
          "text": [
            "nohup: appending output to 'nohup.out'\n",
            "http://50d69c1042b5.ngrok.io\n"
          ],
          "name": "stdout"
        }
      ]
    }
  ]
}