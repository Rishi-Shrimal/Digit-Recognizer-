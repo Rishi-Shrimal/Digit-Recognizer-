{
 "cells": [
  {
   "cell_type": "code",
   "execution_count": 1,
   "metadata": {},
   "outputs": [],
   "source": [
    "from tensorflow import keras\n",
    "import matplotlib.pyplot as plt\n",
    "from keras.callbacks import EarlyStopping\n",
    "from sklearn.metrics import accuracy_score,confusion_matrix,classification_report\n",
    "import numpy as np\n",
    "import pandas as pd"
   ]
  },
  {
   "cell_type": "code",
   "execution_count": 2,
   "metadata": {},
   "outputs": [],
   "source": [
    "(x_train, y_train), (x_test, y_test) = keras.datasets.mnist.load_data(path=\"mnist.npz\")"
   ]
  },
  {
   "cell_type": "code",
   "execution_count": 3,
   "metadata": {},
   "outputs": [],
   "source": [
    "label = ['0','1','2','3','4','5','6','7','8','9']"
   ]
  },
  {
   "cell_type": "code",
   "execution_count": 4,
   "metadata": {},
   "outputs": [],
   "source": [
    "model = keras.Sequential()\n",
    "model.add(keras.layers.Flatten(input_shape=(28, 28)))\n",
    "model.add(keras.layers.Dense(500,activation='relu'))\n",
    "model.add(keras.layers.Dense(10,activation='softmax'))"
   ]
  },
  {
   "cell_type": "code",
   "execution_count": 5,
   "metadata": {},
   "outputs": [],
   "source": [
    "model.compile(loss=\"sparse_categorical_crossentropy\",optimizer='Adam',metrics=['accuracy'])"
   ]
  },
  {
   "cell_type": "code",
   "execution_count": 6,
   "metadata": {},
   "outputs": [
    {
     "name": "stdout",
     "output_type": "stream",
     "text": [
      "Epoch 1/400\n",
      "1875/1875 [==============================] - 4s 2ms/step - loss: 7.2467 - accuracy: 0.8687 - val_loss: 0.4153 - val_accuracy: 0.9199\n",
      "Epoch 2/400\n",
      "1875/1875 [==============================] - 4s 2ms/step - loss: 0.3056 - accuracy: 0.9405 - val_loss: 0.2671 - val_accuracy: 0.9434\n",
      "Epoch 3/400\n",
      "1875/1875 [==============================] - 4s 2ms/step - loss: 0.2734 - accuracy: 0.9428 - val_loss: 0.3005 - val_accuracy: 0.9367\n",
      "Epoch 4/400\n",
      "1875/1875 [==============================] - 4s 2ms/step - loss: 0.2424 - accuracy: 0.9480 - val_loss: 0.2807 - val_accuracy: 0.9470\n",
      "Epoch 5/400\n",
      "1875/1875 [==============================] - 5s 3ms/step - loss: 0.2308 - accuracy: 0.9522 - val_loss: 0.3111 - val_accuracy: 0.9431\n",
      "Epoch 6/400\n",
      "1875/1875 [==============================] - 6s 3ms/step - loss: 0.2119 - accuracy: 0.9539 - val_loss: 0.3015 - val_accuracy: 0.9453\n",
      "Epoch 7/400\n",
      "1875/1875 [==============================] - 6s 3ms/step - loss: 0.2200 - accuracy: 0.9545 - val_loss: 0.3229 - val_accuracy: 0.9515\n"
     ]
    }
   ],
   "source": [
    "early_stop = EarlyStopping(monitor='val_loss',mode='min',verbose=0,patience=5)\n",
    "history = model.fit(x_train,y_train,epochs=400,validation_data=(x_test,y_test),callbacks=[early_stop])"
   ]
  },
  {
   "cell_type": "code",
   "execution_count": 7,
   "metadata": {},
   "outputs": [
    {
     "data": {
      "text/plain": [
       "array([7, 2, 1, ..., 4, 5, 6])"
      ]
     },
     "execution_count": 7,
     "metadata": {},
     "output_type": "execute_result"
    }
   ],
   "source": [
    "y_pred = model.predict(x_test)\n",
    "y_pred = np.argmax(y_pred,axis=1)\n",
    "y_pred"
   ]
  },
  {
   "cell_type": "code",
   "execution_count": 8,
   "metadata": {},
   "outputs": [
    {
     "data": {
      "text/plain": [
       "array([[ 948,    0,    0,    0,    2,    3,    2,    1,    2,    4],\n",
       "       [   0, 1110,    0,    0,    2,    1,    2,    1,    1,    3],\n",
       "       [   2,    4,  972,    3,    5,    2,    0,    7,    6,    0],\n",
       "       [   1,    2,   22,  976,    0,   29,    1,    5,   10,   16],\n",
       "       [   0,    0,    4,    1,  897,    1,    2,    1,    5,    8],\n",
       "       [  13,    2,    1,   10,    3,  827,   18,    0,    6,    5],\n",
       "       [   4,    0,    1,    0,    6,   10,  916,    0,    2,    0],\n",
       "       [   1,    2,   15,    9,    6,    1,    1,  991,    2,    9],\n",
       "       [   9,   15,   15,    9,   18,   14,   16,    5,  925,   11],\n",
       "       [   2,    0,    2,    2,   43,    4,    0,   17,   15,  953]])"
      ]
     },
     "execution_count": 8,
     "metadata": {},
     "output_type": "execute_result"
    }
   ],
   "source": [
    "confusion_matrix(y_pred,y_test)"
   ]
  },
  {
   "cell_type": "code",
   "execution_count": 9,
   "metadata": {},
   "outputs": [
    {
     "data": {
      "text/plain": [
       "0.9515"
      ]
     },
     "execution_count": 9,
     "metadata": {},
     "output_type": "execute_result"
    }
   ],
   "source": [
    "accuracy_score(y_pred,y_test)"
   ]
  },
  {
   "cell_type": "code",
   "execution_count": 10,
   "metadata": {},
   "outputs": [
    {
     "name": "stdout",
     "output_type": "stream",
     "text": [
      "              precision    recall  f1-score   support\n",
      "\n",
      "           0       0.97      0.99      0.98       962\n",
      "           1       0.98      0.99      0.98      1120\n",
      "           2       0.94      0.97      0.96      1001\n",
      "           3       0.97      0.92      0.94      1062\n",
      "           4       0.91      0.98      0.94       919\n",
      "           5       0.93      0.93      0.93       885\n",
      "           6       0.96      0.98      0.97       939\n",
      "           7       0.96      0.96      0.96      1037\n",
      "           8       0.95      0.89      0.92      1037\n",
      "           9       0.94      0.92      0.93      1038\n",
      "\n",
      "    accuracy                           0.95     10000\n",
      "   macro avg       0.95      0.95      0.95     10000\n",
      "weighted avg       0.95      0.95      0.95     10000\n",
      "\n"
     ]
    }
   ],
   "source": [
    "print(classification_report(y_pred,y_test))"
   ]
  },
  {
   "cell_type": "code",
   "execution_count": 11,
   "metadata": {},
   "outputs": [
    {
     "data": {
      "image/png": "[encoded data removed]",
      "text/plain": [
       "<Figure size 432x288 with 1 Axes>"
      ]
     },
     "metadata": {
      "needs_background": "light"
     },
     "output_type": "display_data"
    }
   ],
   "source": [
    "plt.plot(history.history['loss'])\n",
    "plt.plot(history.history['val_loss'])\n",
    "plt.title('model accuracy')\n",
    "plt.ylabel('accuracy')\n",
    "plt.xlabel('epoch')\n",
    "plt.legend(['train', 'test'], loc='upper left')\n",
    "plt.show()"
   ]
  },
  {
   "cell_type": "code",
   "execution_count": 14,
   "metadata": {},
   "outputs": [],
   "source": [
    "model.save(\"digit.hdf5\")"
   ]
  }
 ],
 "metadata": {
  "kernelspec": {
   "display_name": "Python 3",
   "language": "python",
   "name": "python3"
  },
  "language_info": {
   "codemirror_mode": {
    "name": "ipython",
    "version": 3
   },
   "file_extension": ".py",
   "mimetype": "text/x-python",
   "name": "python",
   "nbconvert_exporter": "python",
   "pygments_lexer": "ipython3",
   "version": "3.8.5"
  }
 },
 "nbformat": 4,
 "nbformat_minor": 4
}
